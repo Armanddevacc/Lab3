{
 "cells": [
  {
   "cell_type": "code",
   "execution_count": 1,
   "metadata": {},
   "outputs": [],
   "source": [
    "import pandas as pd\n",
    "import numpy as np\n",
    "from quantmod.markets import getData, getTicker\n",
    "from sqlalchemy import create_engine, text\n"
   ]
  },
  {
   "cell_type": "code",
   "execution_count": 2,
   "metadata": {},
   "outputs": [],
   "source": [
    "# Import & create database \n",
    "# https://sqlite.org/cli.html\n",
    "engine = create_engine('sqlite:///Nifty50') #Idian stock market"
   ]
  },
  {
   "cell_type": "code",
   "execution_count": 3,
   "metadata": {},
   "outputs": [
    {
     "data": {
      "text/plain": [
       "['ADANIENT.BO',\n",
       " 'ADANIPORTS.BO',\n",
       " 'APOLLOHOSP.BO',\n",
       " 'ASIANPAINT.BO',\n",
       " 'AXISBANK.BO']"
      ]
     },
     "execution_count": 3,
     "metadata": {},
     "output_type": "execute_result"
    }
   ],
   "source": [
    "# Read data from wikipedia\n",
    "sensex = pd.read_html('https://en.wikipedia.org/wiki/NIFTY_50')[1].Symbol.to_list()\n",
    "sensex = [symbol + \".BO\" for symbol in sensex]\n",
    "\n",
    "# Read five symbols\n",
    "sensex[:5]"
   ]
  },
  {
   "cell_type": "code",
   "execution_count": 4,
   "metadata": {},
   "outputs": [],
   "source": [
    "# Fetch data from yahoo using list comprehension\n",
    "data = [getData(symbol, period='250d').reset_index() for symbol in sensex] "
   ]
  },
  {
   "cell_type": "code",
   "execution_count": 5,
   "metadata": {},
   "outputs": [],
   "source": [
    "# save it to database, using df.to_sql method\n",
    "for frame, symbol in zip(data, sensex):\n",
    "    frame.to_sql(symbol, engine, if_exists='replace', index=False)"
   ]
  },
  {
   "cell_type": "code",
   "execution_count": 8,
   "metadata": {},
   "outputs": [
    {
     "name": "stdout",
     "output_type": "stream",
     "text": [
      "['ADANIENT.BO', 'ADANIPORTS.BO', 'APOLLOHOSP.BO', 'ASIANPAINT.BO', 'AXISBANK.BO', 'BAJAJ-AUTO.BO', 'BAJFINANCE.BO', 'BAJAJFINSV.BO', 'BEL.BO', 'BPCL.BO', 'BHARTIARTL.BO', 'BRITANNIA.BO', 'CIPLA.BO', 'COALINDIA.BO', 'DRREDDY.BO', 'EICHERMOT.BO', 'GRASIM.BO', 'HCLTECH.BO', 'HDFCBANK.BO', 'HDFCLIFE.BO', 'HEROMOTOCO.BO', 'HINDALCO.BO', 'HINDUNILVR.BO', 'ICICIBANK.BO', 'INDUSINDBK.BO', 'INFY.BO', 'ITC.BO', 'JSWSTEEL.BO', 'KOTAKBANK.BO', 'LT.BO', 'M&M.BO', 'MARUTI.BO', 'NESTLEIND.BO', 'NTPC.BO', 'ONGC.BO', 'POWERGRID.BO', 'RELIANCE.BO', 'SBILIFE.BO', 'SHRIRAMFIN.BO', 'SBIN.BO', 'SUNPHARMA.BO', 'TCS.BO', 'TATACONSUM.BO', 'TATAMOTORS.BO', 'TATASTEEL.BO', 'TECHM.BO', 'TITAN.BO', 'TRENT.BO', 'ULTRACEMCO.BO', 'WIPRO.BO']\n"
     ]
    }
   ],
   "source": [
    "with engine.connect() as connection:\n",
    "    result = connection.execute(text(\"SELECT name FROM sqlite_master WHERE type='table';\"))\n",
    "    table_names = [row[0] for row in result.fetchall()]  # Extract table names\n",
    "print(table_names)"
   ]
  },
  {
   "cell_type": "code",
   "execution_count": null,
   "metadata": {},
   "outputs": [],
   "source": []
  }
 ],
 "metadata": {
  "kernelspec": {
   "display_name": ".venv",
   "language": "python",
   "name": "python3"
  },
  "language_info": {
   "codemirror_mode": {
    "name": "ipython",
    "version": 3
   },
   "file_extension": ".py",
   "mimetype": "text/x-python",
   "name": "python",
   "nbconvert_exporter": "python",
   "pygments_lexer": "ipython3",
   "version": "3.10.16"
  }
 },
 "nbformat": 4,
 "nbformat_minor": 2
}
